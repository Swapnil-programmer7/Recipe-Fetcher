{
  "nbformat": 4,
  "nbformat_minor": 0,
  "metadata": {
    "colab": {
      "provenance": []
    },
    "kernelspec": {
      "name": "python3",
      "display_name": "Python 3"
    },
    "language_info": {
      "name": "python"
    }
  },
  "cells": [
    {
      "cell_type": "code",
      "source": [
        "!pip install --quiet SPARQLWrapper\n",
        "!pip install anvil-uplink"
      ],
      "metadata": {
        "id": "oMmTyznRl-DP",
        "colab": {
          "base_uri": "https://localhost:8080/",
          "height": 242
        },
        "outputId": "4b4451e9-3283-4e25-d03e-3edf0a2ffca7"
      },
      "execution_count": 14,
      "outputs": [
        {
          "output_type": "stream",
          "name": "stdout",
          "text": [
            "Requirement already satisfied: anvil-uplink in /usr/local/lib/python3.10/dist-packages (0.4.2)\n",
            "Collecting argparse (from anvil-uplink)\n",
            "  Using cached argparse-1.4.0-py2.py3-none-any.whl (23 kB)\n",
            "Requirement already satisfied: future in /usr/local/lib/python3.10/dist-packages (from anvil-uplink) (0.18.3)\n",
            "Requirement already satisfied: six in /usr/local/lib/python3.10/dist-packages (from anvil-uplink) (1.16.0)\n",
            "Requirement already satisfied: ws4py in /usr/local/lib/python3.10/dist-packages (from anvil-uplink) (0.5.1)\n",
            "Installing collected packages: argparse\n",
            "Successfully installed argparse-1.4.0\n"
          ]
        },
        {
          "output_type": "display_data",
          "data": {
            "application/vnd.colab-display-data+json": {
              "pip_warning": {
                "packages": [
                  "argparse"
                ]
              }
            }
          },
          "metadata": {}
        }
      ]
    },
    {
      "cell_type": "code",
      "source": [
        "import anvil.server\n"
      ],
      "metadata": {
        "id": "QS190fVrIu_r"
      },
      "execution_count": 15,
      "outputs": []
    },
    {
      "cell_type": "code",
      "source": [
        "anvil.server.connect(\"server_WIONFUIB7XXXWRJEH27B4TD2-DERCMR7TIJFOJCY3\")"
      ],
      "metadata": {
        "id": "qNx24XDxJVor"
      },
      "execution_count": 16,
      "outputs": []
    },
    {
      "cell_type": "code",
      "execution_count": 17,
      "metadata": {
        "id": "NGV0_1pskh0m"
      },
      "outputs": [],
      "source": [
        "from SPARQLWrapper import SPARQLWrapper, JSON\n",
        "import requests\n",
        "import pandas as pd\n",
        "\n",
        "sparql = SPARQLWrapper(\"https://query.wikidata.org/sparql\")"
      ]
    },
    {
      "cell_type": "code",
      "source": [
        "# get list of common ingredients\n",
        "\n",
        "ing_qstr = \"\"\"SELECT DISTINCT ?ing ?ingLabel\n",
        "WHERE\n",
        "{\n",
        "    ?food wdt:P279 wd:Q2095;\n",
        "        wdt:P527 ?ing.\n",
        "SERVICE wikibase:label { bd:serviceParam wikibase:language \"en\". }\n",
        "}\"\"\"\n",
        "sparql.setQuery(ing_qstr)\n",
        "sparql.setReturnFormat(JSON)\n",
        "ings = sparql.query().convert()"
      ],
      "metadata": {
        "id": "gIzzOdi1OIe7"
      },
      "execution_count": 18,
      "outputs": []
    },
    {
      "cell_type": "code",
      "source": [
        "ings_df = pd.io.json.json_normalize(ings['results']['bindings'])\n",
        "ings_df = ings_df[['ing.value', 'ingLabel.value']]\n",
        "ings_df.columns = ['qid', 'name']\n",
        "ings_df['qid'] = ings_df['qid'].str.split('/').str[-1]"
      ],
      "metadata": {
        "id": "qlQW4d-0QL35",
        "colab": {
          "base_uri": "https://localhost:8080/"
        },
        "outputId": "622dc616-eed1-4749-d189-a04d68295fba"
      },
      "execution_count": 19,
      "outputs": [
        {
          "output_type": "stream",
          "name": "stderr",
          "text": [
            "<ipython-input-19-c4cd6b13ce46>:1: FutureWarning: pandas.io.json.json_normalize is deprecated, use pandas.json_normalize instead.\n",
            "  ings_df = pd.io.json.json_normalize(ings['results']['bindings'])\n"
          ]
        }
      ]
    },
    {
      "cell_type": "code",
      "source": [
        "ings_dct = dict(zip(ings_df['name'], ings_df['qid']))"
      ],
      "metadata": {
        "id": "6r4yzRKzRVP_"
      },
      "execution_count": 20,
      "outputs": []
    },
    {
      "cell_type": "code",
      "source": [
        "''' get closest match of entered ingredient and available list of ingredients '''"
      ],
      "metadata": {
        "colab": {
          "base_uri": "https://localhost:8080/",
          "height": 35
        },
        "id": "v-IZ-3GrSk0G",
        "outputId": "8545f41f-c88a-456b-8e6a-c9500fdfd6c1"
      },
      "execution_count": 21,
      "outputs": [
        {
          "output_type": "execute_result",
          "data": {
            "text/plain": [
              "' get closest match of entered ingredient and available list of ingredients '"
            ],
            "application/vnd.google.colaboratory.intrinsic+json": {
              "type": "string"
            }
          },
          "metadata": {},
          "execution_count": 21
        }
      ]
    },
    {
      "cell_type": "code",
      "source": [
        "def wiki_id(name):\n",
        "  if name not in ings_dct:\n",
        "    for dct_name, qid in ings_dct.items():\n",
        "      if (name in dct_name) or (dct_name in name):\n",
        "        return qid\n",
        "    return None\n",
        "  else:\n",
        "    return ings_dct[name]"
      ],
      "metadata": {
        "id": "HxH-dyr8S6q8"
      },
      "execution_count": 22,
      "outputs": []
    },
    {
      "cell_type": "code",
      "source": [
        "def form_query(required_ing, forbidden_ing):\n",
        "  query = [\n",
        "    'SELECT DISTINCT ?food ?ingredient ?foodLabel ?ingredientLabel',\n",
        "    'WHERE',\n",
        "    '{'\n",
        "  ]\n",
        "\n",
        "  temp_union_query = [f'{{?food wdt:P527 wd:{x}.}}' for x in required_ing]\n",
        "  for e in temp_union_query:\n",
        "    query.append(e)\n",
        "    query.append('UNION')\n",
        "  query.pop()\n",
        "\n",
        "  # required_ingredient_query = [f'wdt:P527 wd:{x};' for x in required_ing[1:]]\n",
        "  # query.extend(required_ingredient_query)\n",
        "  # query.append()\n",
        "\n",
        "  if len(forbidden_ing)>0:\n",
        "    minus_query = [f'MINUS {{ ?food wdt:P527 wd:{x}. }}' for x in forbidden_ing]\n",
        "\n",
        "    query.extend(minus_query)\n",
        "\n",
        "  query_end = [\n",
        "      '?food wdt:P527 ?ingredient.',\n",
        "      'SERVICE wikibase:label { bd:serviceParam wikibase:language \"en\". }',\n",
        "      '}',\n",
        "  ]\n",
        "  query.extend(query_end)\n",
        "  return query"
      ],
      "metadata": {
        "id": "X8ZLuyplmtV3"
      },
      "execution_count": 23,
      "outputs": []
    },
    {
      "cell_type": "code",
      "source": [
        "\n",
        "def get_results(required_ing, forbidden_ing, return_query=False):\n",
        "  required_ing = [wiki_id(x) for x in required_ing if wiki_id(x) is not None]\n",
        "  forbidden_ing = [wiki_id(x) for x in forbidden_ing if wiki_id(x) is not None]\n",
        "\n",
        "  formatted_query = '\\n'.join(form_query(required_ing, forbidden_ing))\n",
        "\n",
        "  sparql.setQuery(' '.join(form_query(required_ing, forbidden_ing)))\n",
        "  sparql.setReturnFormat(JSON)\n",
        "  results = sparql.query().convert()\n",
        "\n",
        "  df = pd.json_normalize(results['results']['bindings'])\n",
        "  df = df[['foodLabel.value', 'ingredientLabel.value']]\n",
        "  df.columns = ['Food', 'Ingredients']\n",
        "  df = df.sort_values(by=['Food', 'Ingredients'])\n",
        "  df = df.sort_values(by=['Food', 'Ingredients']).reset_index(drop=True)\n",
        "\n",
        "  return df, formatted_query"
      ],
      "metadata": {
        "id": "0edZGyyimscA"
      },
      "execution_count": 24,
      "outputs": []
    },
    {
      "cell_type": "code",
      "source": [
        "@anvil.server.callable\n",
        "def fetch_recipes(required_ingredients,prohibited_ingredients):\n",
        "  required = required_ingredients.split()\n",
        "  forbidden = prohibited_ingredients.split()\n",
        "\n",
        "  results, query = get_results(required, forbidden)\n",
        "\n",
        "  if results.empty:\n",
        "    val = False\n",
        "  else:\n",
        "    val = True\n",
        "\n",
        "  return results.to_markdown(), val\n"
      ],
      "metadata": {
        "id": "u6dPKgn1ZdXM"
      },
      "execution_count": 25,
      "outputs": []
    },
    {
      "cell_type": "code",
      "source": [
        "anvil.server.wait_forever()"
      ],
      "metadata": {
        "id": "Tq-noD7-JxvO",
        "colab": {
          "base_uri": "https://localhost:8080/",
          "height": 252
        },
        "outputId": "b535a360-4b3c-4e14-b7ed-e9f205abe159"
      },
      "execution_count": 26,
      "outputs": [
        {
          "output_type": "error",
          "ename": "KeyboardInterrupt",
          "evalue": "ignored",
          "traceback": [
            "\u001b[0;31m---------------------------------------------------------------------------\u001b[0m",
            "\u001b[0;31mKeyboardInterrupt\u001b[0m                         Traceback (most recent call last)",
            "\u001b[0;32m<ipython-input-26-95cac3476493>\u001b[0m in \u001b[0;36m<cell line: 1>\u001b[0;34m()\u001b[0m\n\u001b[0;32m----> 1\u001b[0;31m \u001b[0manvil\u001b[0m\u001b[0;34m.\u001b[0m\u001b[0mserver\u001b[0m\u001b[0;34m.\u001b[0m\u001b[0mwait_forever\u001b[0m\u001b[0;34m(\u001b[0m\u001b[0;34m)\u001b[0m\u001b[0;34m\u001b[0m\u001b[0;34m\u001b[0m\u001b[0m\n\u001b[0m",
            "\u001b[0;32m/usr/local/lib/python3.10/dist-packages/anvil/server.py\u001b[0m in \u001b[0;36mwait_forever\u001b[0;34m()\u001b[0m\n\u001b[1;32m    435\u001b[0m     \u001b[0m_get_connection\u001b[0m\u001b[0;34m(\u001b[0m\u001b[0;34m)\u001b[0m\u001b[0;34m\u001b[0m\u001b[0;34m\u001b[0m\u001b[0m\n\u001b[1;32m    436\u001b[0m     \u001b[0;32mwhile\u001b[0m \u001b[0;32mTrue\u001b[0m\u001b[0;34m:\u001b[0m\u001b[0;34m\u001b[0m\u001b[0;34m\u001b[0m\u001b[0m\n\u001b[0;32m--> 437\u001b[0;31m         \u001b[0mtime\u001b[0m\u001b[0;34m.\u001b[0m\u001b[0msleep\u001b[0m\u001b[0;34m(\u001b[0m\u001b[0;36m1\u001b[0m\u001b[0;34m)\u001b[0m\u001b[0;34m\u001b[0m\u001b[0;34m\u001b[0m\u001b[0m\n\u001b[0m",
            "\u001b[0;31mKeyboardInterrupt\u001b[0m: "
          ]
        }
      ]
    },
    {
      "cell_type": "code",
      "source": [
        "# required = ['tomato', 'bread']\n",
        "# forbidden = ['mayonnaise', 'onion']\n",
        "\n",
        "# results, query = get_results(required, forbidden)"
      ],
      "metadata": {
        "id": "_t4-eBK1peVB"
      },
      "execution_count": null,
      "outputs": []
    },
    {
      "cell_type": "code",
      "source": [
        "results"
      ],
      "metadata": {
        "id": "4LcujFD0Oomt"
      },
      "execution_count": null,
      "outputs": []
    },
    {
      "cell_type": "code",
      "source": [],
      "metadata": {
        "id": "MsiND1CWqkRw"
      },
      "execution_count": null,
      "outputs": []
    }
  ]
}